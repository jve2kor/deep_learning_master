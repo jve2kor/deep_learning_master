{
 "cells": [
  {
   "cell_type": "markdown",
   "metadata": {
    "collapsed": true
   },
   "source": [
    "# Language Translation\n",
    "In this project, you’re going to take a peek into the realm of neural network machine translation.  You’ll be training a sequence to sequence model on a dataset of English and French sentences that can translate new sentences from English to French.\n",
    "## Get the Data\n",
    "Since translating the whole language of English to French will take lots of time to train, we have provided you with a small portion of the English corpus."
   ]
  },
  {
   "cell_type": "code",
   "execution_count": 1,
   "metadata": {
    "collapsed": true
   },
   "outputs": [],
   "source": [
    "\"\"\"\n",
    "DON'T MODIFY ANYTHING IN THIS CELL\n",
    "\"\"\"\n",
    "import helper\n",
    "import problem_unittests as tests\n",
    "\n",
    "source_path = 'data/small_vocab_en'\n",
    "target_path = 'data/small_vocab_fr'\n",
    "source_text = helper.load_data(source_path)\n",
    "target_text = helper.load_data(target_path)"
   ]
  },
  {
   "cell_type": "markdown",
   "metadata": {},
   "source": [
    "## Explore the Data\n",
    "Play around with view_sentence_range to view different parts of the data."
   ]
  },
  {
   "cell_type": "code",
   "execution_count": 2,
   "metadata": {},
   "outputs": [
    {
     "name": "stdout",
     "output_type": "stream",
     "text": [
      "Dataset Stats\n",
      "Roughly the number of unique words: 227\n",
      "Number of sentences: 137861\n",
      "Average number of words in a sentence: 13.225277634719028\n",
      "\n",
      "English sentences 0 to 10:\n",
      "new jersey is sometimes quiet during autumn , and it is snowy in april .\n",
      "the united states is usually chilly during july , and it is usually freezing in november .\n",
      "california is usually quiet during march , and it is usually hot in june .\n",
      "the united states is sometimes mild during june , and it is cold in september .\n",
      "your least liked fruit is the grape , but my least liked is the apple .\n",
      "his favorite fruit is the orange , but my favorite is the grape .\n",
      "paris is relaxing during december , but it is usually chilly in july .\n",
      "new jersey is busy during spring , and it is never hot in march .\n",
      "our least liked fruit is the lemon , but my least liked is the grape .\n",
      "the united states is sometimes busy during january , and it is sometimes warm in november .\n",
      "\n",
      "French sentences 0 to 10:\n",
      "new jersey est parfois calme pendant l' automne , et il est neigeux en avril .\n",
      "les états-unis est généralement froid en juillet , et il gèle habituellement en novembre .\n",
      "california est généralement calme en mars , et il est généralement chaud en juin .\n",
      "les états-unis est parfois légère en juin , et il fait froid en septembre .\n",
      "votre moins aimé fruit est le raisin , mais mon moins aimé est la pomme .\n",
      "son fruit préféré est l'orange , mais mon préféré est le raisin .\n",
      "paris est relaxant en décembre , mais il est généralement froid en juillet .\n",
      "new jersey est occupé au printemps , et il est jamais chaude en mars .\n",
      "notre fruit est moins aimé le citron , mais mon moins aimé est le raisin .\n",
      "les états-unis est parfois occupé en janvier , et il est parfois chaud en novembre .\n"
     ]
    }
   ],
   "source": [
    "view_sentence_range = (0, 10)\n",
    "\n",
    "\"\"\"\n",
    "DON'T MODIFY ANYTHING IN THIS CELL\n",
    "\"\"\"\n",
    "import numpy as np\n",
    "\n",
    "print('Dataset Stats')\n",
    "print('Roughly the number of unique words: {}'.format(len({word: None for word in source_text.split()})))\n",
    "\n",
    "sentences = source_text.split('\\n')\n",
    "word_counts = [len(sentence.split()) for sentence in sentences]\n",
    "print('Number of sentences: {}'.format(len(sentences)))\n",
    "print('Average number of words in a sentence: {}'.format(np.average(word_counts)))\n",
    "\n",
    "print()\n",
    "print('English sentences {} to {}:'.format(*view_sentence_range))\n",
    "print('\\n'.join(source_text.split('\\n')[view_sentence_range[0]:view_sentence_range[1]]))\n",
    "print()\n",
    "print('French sentences {} to {}:'.format(*view_sentence_range))\n",
    "print('\\n'.join(target_text.split('\\n')[view_sentence_range[0]:view_sentence_range[1]]))"
   ]
  },
  {
   "cell_type": "markdown",
   "metadata": {},
   "source": [
    "## Implement Preprocessing Function\n",
    "### Text to Word Ids\n",
    "As you did with other RNNs, you must turn the text into a number so the computer can understand it. In the function `text_to_ids()`, you'll turn `source_text` and `target_text` from words to ids.  However, you need to add the `<EOS>` word id at the end of `target_text`.  This will help the neural network predict when the sentence should end.\n",
    "\n",
    "You can get the `<EOS>` word id by doing:\n",
    "```python\n",
    "target_vocab_to_int['<EOS>']\n",
    "```\n",
    "You can get other word ids using `source_vocab_to_int` and `target_vocab_to_int`."
   ]
  },
  {
   "cell_type": "code",
   "execution_count": 3,
   "metadata": {},
   "outputs": [
    {
     "name": "stdout",
     "output_type": "stream",
     "text": [
      "Tests Passed\n"
     ]
    }
   ],
   "source": [
    "def text_to_ids(source_text, target_text, source_vocab_to_int, target_vocab_to_int):\n",
    "    \"\"\"\n",
    "    Convert source and target text to proper word ids\n",
    "    :param source_text: String that contains all the source text.\n",
    "    :param target_text: String that contains all the target text.\n",
    "    :param source_vocab_to_int: Dictionary to go from the source words to an id\n",
    "    :param target_vocab_to_int: Dictionary to go from the target words to an id\n",
    "    :return: A tuple of lists (source_id_text, target_id_text)\n",
    "    \"\"\"\n",
    "    source_id_text = []\n",
    "    target_id_text = []\n",
    "    # TODO: Implement Function\n",
    "    source_id_text = [[source_vocab_to_int.get(word, 0) for word in sentence.split()] for sentence in source_text.split('\\n')]\n",
    "\n",
    "\n",
    "    \n",
    "    target_text_sentences = target_text.split('\\n')\n",
    "    target_text_sentences_eos = [s +' <EOS> ' for s in target_text_sentences ]\n",
    "    target_id_text = [[target_vocab_to_int[w] for w in s.split() ] for s in target_text_sentences_eos ]\n",
    "    \n",
    "    return (source_id_text, target_id_text)\n",
    "\n",
    "\"\"\"\n",
    "DON'T MODIFY ANYTHING IN THIS CELL THAT IS BELOW THIS LINE\n",
    "\"\"\"\n",
    "tests.test_text_to_ids(text_to_ids)"
   ]
  },
  {
   "cell_type": "markdown",
   "metadata": {},
   "source": [
    "### Preprocess all the data and save it\n",
    "Running the code cell below will preprocess all the data and save it to file."
   ]
  },
  {
   "cell_type": "code",
   "execution_count": 4,
   "metadata": {
    "collapsed": true
   },
   "outputs": [],
   "source": [
    "\"\"\"\n",
    "DON'T MODIFY ANYTHING IN THIS CELL\n",
    "\"\"\"\n",
    "helper.preprocess_and_save_data(source_path, target_path, text_to_ids)"
   ]
  },
  {
   "cell_type": "markdown",
   "metadata": {},
   "source": [
    "# Check Point\n",
    "This is your first checkpoint. If you ever decide to come back to this notebook or have to restart the notebook, you can start from here. The preprocessed data has been saved to disk."
   ]
  },
  {
   "cell_type": "code",
   "execution_count": 5,
   "metadata": {
    "collapsed": true
   },
   "outputs": [],
   "source": [
    "\"\"\"\n",
    "DON'T MODIFY ANYTHING IN THIS CELL\n",
    "\"\"\"\n",
    "import numpy as np\n",
    "import helper\n",
    "\n",
    "(source_int_text, target_int_text), (source_vocab_to_int, target_vocab_to_int), _ = helper.load_preprocess()"
   ]
  },
  {
   "cell_type": "markdown",
   "metadata": {},
   "source": [
    "### Check the Version of TensorFlow and Access to GPU\n",
    "This will check to make sure you have the correct version of TensorFlow and access to a GPU"
   ]
  },
  {
   "cell_type": "code",
   "execution_count": 6,
   "metadata": {},
   "outputs": [
    {
     "name": "stdout",
     "output_type": "stream",
     "text": [
      "TensorFlow Version: 1.1.0\n",
      "Default GPU Device: /gpu:0\n"
     ]
    }
   ],
   "source": [
    "\"\"\"\n",
    "DON'T MODIFY ANYTHING IN THIS CELL\n",
    "\"\"\"\n",
    "from distutils.version import LooseVersion\n",
    "import warnings\n",
    "import tensorflow as tf\n",
    "from tensorflow.python.layers.core import Dense\n",
    "\n",
    "# Check TensorFlow Version\n",
    "assert LooseVersion(tf.__version__) >= LooseVersion('1.1'), 'Please use TensorFlow version 1.1 or newer'\n",
    "print('TensorFlow Version: {}'.format(tf.__version__))\n",
    "\n",
    "# Check for a GPU\n",
    "if not tf.test.gpu_device_name():\n",
    "    warnings.warn('No GPU found. Please use a GPU to train your neural network.')\n",
    "else:\n",
    "    print('Default GPU Device: {}'.format(tf.test.gpu_device_name()))"
   ]
  },
  {
   "cell_type": "markdown",
   "metadata": {},
   "source": [
    "## Build the Neural Network\n",
    "You'll build the components necessary to build a Sequence-to-Sequence model by implementing the following functions below:\n",
    "- `model_inputs`\n",
    "- `process_decoder_input`\n",
    "- `encoding_layer`\n",
    "- `decoding_layer_train`\n",
    "- `decoding_layer_infer`\n",
    "- `decoding_layer`\n",
    "- `seq2seq_model`\n",
    "\n",
    "### Input\n",
    "Implement the `model_inputs()` function to create TF Placeholders for the Neural Network. It should create the following placeholders:\n",
    "\n",
    "- Input text placeholder named \"input\" using the TF Placeholder name parameter with rank 2.\n",
    "- Targets placeholder with rank 2.\n",
    "- Learning rate placeholder with rank 0.\n",
    "- Keep probability placeholder named \"keep_prob\" using the TF Placeholder name parameter with rank 0.\n",
    "- Target sequence length placeholder named \"target_sequence_length\" with rank 1\n",
    "- Max target sequence length tensor named \"max_target_len\" getting its value from applying tf.reduce_max on the target_sequence_length placeholder. Rank 0.\n",
    "- Source sequence length placeholder named \"source_sequence_length\" with rank 1\n",
    "\n",
    "Return the placeholders in the following the tuple (input, targets, learning rate, keep probability, target sequence length, max target sequence length, source sequence length)"
   ]
  },
  {
   "cell_type": "code",
   "execution_count": 7,
   "metadata": {},
   "outputs": [
    {
     "name": "stdout",
     "output_type": "stream",
     "text": [
      "Tests Passed\n"
     ]
    }
   ],
   "source": [
    "def model_inputs():\n",
    "    \"\"\"\n",
    "    Create TF Placeholders for input, targets, learning rate, and lengths of source and target sequences.\n",
    "    :return: Tuple (input, targets, learning rate, keep probability, target sequence length,\n",
    "    max target sequence length, source sequence length)\n",
    "    \"\"\"\n",
    "    input_ = tf.placeholder(tf.int32,[None,None],name='input')\n",
    "    target = tf.placeholder(tf.int32,[None,None])\n",
    "    target_sequence_len = tf.placeholder(tf.int32, [None], name='target_sequence_length')\n",
    "    max_target_len = tf.reduce_max(target_sequence_len,name='max_target_len' )\n",
    "    source_sequence_length = tf.placeholder(tf.int32, [None], name='source_sequence_length')\n",
    "    learning_rate = tf.placeholder(tf.float32)\n",
    "    keep_prob = tf.placeholder(tf.float32, name='keep_prob')\n",
    "    return input_, target, learning_rate, keep_prob, target_sequence_len, max_target_len, source_sequence_length\n",
    "\n",
    "\"\"\"\n",
    "DON'T MODIFY ANYTHING IN THIS CELL THAT IS BELOW THIS LINE\n",
    "\"\"\"\n",
    "tests.test_model_inputs(model_inputs)"
   ]
  },
  {
   "cell_type": "markdown",
   "metadata": {},
   "source": [
    "### Process Decoder Input\n",
    "Implement `process_decoder_input` by removing the last word id from each batch in `target_data` and concat the GO ID to the begining of each batch."
   ]
  },
  {
   "cell_type": "code",
   "execution_count": 8,
   "metadata": {},
   "outputs": [
    {
     "name": "stdout",
     "output_type": "stream",
     "text": [
      "Tests Passed\n"
     ]
    }
   ],
   "source": [
    "def process_decoder_input(target_data, target_vocab_to_int, batch_size):\n",
    "    \"\"\"\n",
    "    Preprocess target data for encoding\n",
    "    :param target_data: Target Placehoder\n",
    "    :param target_vocab_to_int: Dictionary to go from the target words to an id\n",
    "    :param batch_size: Batch Size\n",
    "    :return: Preprocessed target data\n",
    "    \"\"\"\n",
    "    # TODO: Implement Function\n",
    "    ending = tf.strided_slice(target_data, [0, 0], [batch_size, -1], [1, 1])\n",
    "    dec_input = tf.concat([tf.fill([batch_size, 1], target_vocab_to_int['<GO>']), ending], 1)\n",
    "\n",
    "    return dec_input\n",
    "\n",
    "\n",
    "\"\"\"\n",
    "DON'T MODIFY ANYTHING IN THIS CELL THAT IS BELOW THIS LINE\n",
    "\"\"\"\n",
    "tests.test_process_encoding_input(process_decoder_input)"
   ]
  },
  {
   "cell_type": "markdown",
   "metadata": {},
   "source": [
    "### Encoding\n",
    "Implement `encoding_layer()` to create a Encoder RNN layer:\n",
    " * Embed the encoder input using [`tf.contrib.layers.embed_sequence`](https://www.tensorflow.org/api_docs/python/tf/contrib/layers/embed_sequence)\n",
    " * Construct a [stacked](https://github.com/tensorflow/tensorflow/blob/6947f65a374ebf29e74bb71e36fd82760056d82c/tensorflow/docs_src/tutorials/recurrent.md#stacking-multiple-lstms) [`tf.contrib.rnn.LSTMCell`](https://www.tensorflow.org/api_docs/python/tf/contrib/rnn/LSTMCell) wrapped in a [`tf.contrib.rnn.DropoutWrapper`](https://www.tensorflow.org/api_docs/python/tf/contrib/rnn/DropoutWrapper)\n",
    " * Pass cell and embedded input to [`tf.nn.dynamic_rnn()`](https://www.tensorflow.org/api_docs/python/tf/nn/dynamic_rnn)"
   ]
  },
  {
   "cell_type": "code",
   "execution_count": 9,
   "metadata": {
    "scrolled": false
   },
   "outputs": [
    {
     "name": "stdout",
     "output_type": "stream",
     "text": [
      "Tests Passed\n"
     ]
    }
   ],
   "source": [
    "from imp import reload\n",
    "reload(tests)\n",
    "\n",
    "def encoding_layer(rnn_inputs, rnn_size, num_layers, keep_prob, \n",
    "                   source_sequence_length, source_vocab_size, \n",
    "                   encoding_embedding_size):\n",
    "    \"\"\"\n",
    "    Create encoding layer\n",
    "    :param rnn_inputs: Inputs for the RNN\n",
    "    :param rnn_size: RNN Size\n",
    "    :param num_layers: Number of layers\n",
    "    :param keep_prob: Dropout keep probability\n",
    "    :param source_sequence_length: a list of the lengths of each sequence in the batch\n",
    "    :param source_vocab_size: vocabulary size of source data\n",
    "    :param encoding_embedding_size: embedding size of source data\n",
    "    :return: tuple (RNN output, RNN state)\n",
    "    \"\"\"\n",
    "    # TODO: Implement Function\n",
    "    # Encoder embedding\n",
    "    enc_embed_input = tf.contrib.layers.embed_sequence(rnn_inputs, source_vocab_size, encoding_embedding_size)\n",
    "\n",
    "    # RNN cell\n",
    "    def make_cell(rnn_size):\n",
    "        enc_cell = tf.contrib.rnn.LSTMCell(rnn_size, initializer=tf.random_uniform_initializer(-0.1, 0.1, seed=2))\n",
    "        return enc_cell\n",
    "\n",
    "    enc_cell = tf.contrib.rnn.MultiRNNCell([make_cell(rnn_size) for _ in range(num_layers)])\n",
    "    \n",
    "    enc_output, enc_state = tf.nn.dynamic_rnn(enc_cell, enc_embed_input, sequence_length=source_sequence_length, dtype=tf.float32)\n",
    "    return enc_output, enc_state\n",
    "\n",
    "\"\"\"\n",
    "DON'T MODIFY ANYTHING IN THIS CELL THAT IS BELOW THIS LINE\n",
    "\"\"\"\n",
    "tests.test_encoding_layer(encoding_layer)"
   ]
  },
  {
   "cell_type": "markdown",
   "metadata": {},
   "source": [
    "### Decoding - Training\n",
    "Create a training decoding layer:\n",
    "* Create a [`tf.contrib.seq2seq.TrainingHelper`](https://www.tensorflow.org/api_docs/python/tf/contrib/seq2seq/TrainingHelper) \n",
    "* Create a [`tf.contrib.seq2seq.BasicDecoder`](https://www.tensorflow.org/api_docs/python/tf/contrib/seq2seq/BasicDecoder)\n",
    "* Obtain the decoder outputs from [`tf.contrib.seq2seq.dynamic_decode`](https://www.tensorflow.org/api_docs/python/tf/contrib/seq2seq/dynamic_decode)"
   ]
  },
  {
   "cell_type": "code",
   "execution_count": 10,
   "metadata": {},
   "outputs": [
    {
     "name": "stdout",
     "output_type": "stream",
     "text": [
      "Tests Passed\n"
     ]
    }
   ],
   "source": [
    "\n",
    "def decoding_layer_train(encoder_state, dec_cell, dec_embed_input, \n",
    "                         target_sequence_length, max_summary_length, \n",
    "                         output_layer, keep_prob):\n",
    "    \"\"\"\n",
    "    Create a decoding layer for training\n",
    "    :param encoder_state: Encoder State\n",
    "    :param dec_cell: Decoder RNN Cell\n",
    "    :param dec_embed_input: Decoder embedded input\n",
    "    :param target_sequence_length: The lengths of each sequence in the target batch\n",
    "    :param max_summary_length: The length of the longest sequence in the batch\n",
    "    :param output_layer: Function to apply the output layer\n",
    "    :param keep_prob: Dropout keep probability\n",
    "    :return: BasicDecoderOutput containing training logits and sample_id\n",
    "    \"\"\"\n",
    "    # TODO: Implement Function\n",
    "    # Helper for the training process. Used by BasicDecoder to read inputs.\n",
    "    helper =  tf.contrib.seq2seq.TrainingHelper(inputs=dec_embed_input,\n",
    "                                               sequence_length=target_sequence_length,\n",
    "                                               time_major=False )\n",
    "    decoder = tf.contrib.seq2seq.BasicDecoder(dec_cell, helper,encoder_state, output_layer)\n",
    "    logits, _ = tf.contrib.seq2seq.dynamic_decode(decoder,impute_finished=True,maximum_iterations=max_summary_length)\n",
    "    return logits\n",
    "\n",
    "\n",
    "\n",
    "\"\"\"\n",
    "DON'T MODIFY ANYTHING IN THIS CELL THAT IS BELOW THIS LINE\n",
    "\"\"\"\n",
    "tests.test_decoding_layer_train(decoding_layer_train)"
   ]
  },
  {
   "cell_type": "markdown",
   "metadata": {},
   "source": [
    "### Decoding - Inference\n",
    "Create inference decoder:\n",
    "* Create a [`tf.contrib.seq2seq.GreedyEmbeddingHelper`](https://www.tensorflow.org/api_docs/python/tf/contrib/seq2seq/GreedyEmbeddingHelper)\n",
    "* Create a [`tf.contrib.seq2seq.BasicDecoder`](https://www.tensorflow.org/api_docs/python/tf/contrib/seq2seq/BasicDecoder)\n",
    "* Obtain the decoder outputs from [`tf.contrib.seq2seq.dynamic_decode`](https://www.tensorflow.org/api_docs/python/tf/contrib/seq2seq/dynamic_decode)"
   ]
  },
  {
   "cell_type": "code",
   "execution_count": 11,
   "metadata": {
    "scrolled": true
   },
   "outputs": [
    {
     "name": "stdout",
     "output_type": "stream",
     "text": [
      "Tests Passed\n"
     ]
    }
   ],
   "source": [
    "def decoding_layer_infer(encoder_state, dec_cell, dec_embeddings, start_of_sequence_id,\n",
    "                         end_of_sequence_id, max_target_sequence_length,\n",
    "                         vocab_size, output_layer, batch_size, keep_prob):\n",
    "    \"\"\"\n",
    "    Create a decoding layer for inference\n",
    "    :param encoder_state: Encoder state\n",
    "    :param dec_cell: Decoder RNN Cell\n",
    "    :param dec_embeddings: Decoder embeddings\n",
    "    :param start_of_sequence_id: GO ID\n",
    "    :param end_of_sequence_id: EOS Id\n",
    "    :param max_target_sequence_length: Maximum length of target sequences\n",
    "    :param vocab_size: Size of decoder/target vocabulary\n",
    "    :param decoding_scope: TenorFlow Variable Scope for decoding\n",
    "    :param output_layer: Function to apply the output layer\n",
    "    :param batch_size: Batch size\n",
    "    :param keep_prob: Dropout keep probability\n",
    "    :return: BasicDecoderOutput containing inference logits and sample_id\n",
    "    \"\"\"\n",
    "    # TODO: Implement Function\n",
    "    start_tokens = tf.tile(tf.constant([start_of_sequence_id], dtype=tf.int32), [batch_size], name='start_tokens')  \n",
    "    helper = tf.contrib.seq2seq.GreedyEmbeddingHelper(dec_embeddings,start_tokens, end_of_sequence_id)\n",
    "    decoder = tf.contrib.seq2seq.BasicDecoder(dec_cell, helper,encoder_state, output_layer)\n",
    "    logits, _ = tf.contrib.seq2seq.dynamic_decode(decoder,impute_finished=True,maximum_iterations=max_target_sequence_length)\n",
    "    return logits\n",
    "\n",
    "\n",
    "\n",
    "\"\"\"\n",
    "DON'T MODIFY ANYTHING IN THIS CELL THAT IS BELOW THIS LINE\n",
    "\"\"\"\n",
    "tests.test_decoding_layer_infer(decoding_layer_infer)"
   ]
  },
  {
   "cell_type": "markdown",
   "metadata": {},
   "source": [
    "### Build the Decoding Layer\n",
    "Implement `decoding_layer()` to create a Decoder RNN layer.\n",
    "\n",
    "* Embed the target sequences\n",
    "* Construct the decoder LSTM cell (just like you constructed the encoder cell above)\n",
    "* Create an output layer to map the outputs of the decoder to the elements of our vocabulary\n",
    "* Use the your `decoding_layer_train(encoder_state, dec_cell, dec_embed_input, target_sequence_length, max_target_sequence_length, output_layer, keep_prob)` function to get the training logits.\n",
    "* Use your `decoding_layer_infer(encoder_state, dec_cell, dec_embeddings, start_of_sequence_id, end_of_sequence_id, max_target_sequence_length, vocab_size, output_layer, batch_size, keep_prob)` function to get the inference logits.\n",
    "\n",
    "Note: You'll need to use [tf.variable_scope](https://www.tensorflow.org/api_docs/python/tf/variable_scope) to share variables between training and inference."
   ]
  },
  {
   "cell_type": "code",
   "execution_count": 12,
   "metadata": {},
   "outputs": [
    {
     "name": "stdout",
     "output_type": "stream",
     "text": [
      "Tests Passed\n"
     ]
    }
   ],
   "source": [
    "def decoding_layer(dec_input, encoder_state,\n",
    "                   target_sequence_length, max_target_sequence_length,\n",
    "                   rnn_size,\n",
    "                   num_layers, target_vocab_to_int, target_vocab_size,\n",
    "                   batch_size, keep_prob, decoding_embedding_size):\n",
    "    \"\"\"\n",
    "    Create decoding layer\n",
    "    :param dec_input: Decoder input\n",
    "    :param encoder_state: Encoder state\n",
    "    :param target_sequence_length: The lengths of each sequence in the target batch\n",
    "    :param max_target_sequence_length: Maximum length of target sequences\n",
    "    :param rnn_size: RNN Size\n",
    "    :param num_layers: Number of layers\n",
    "    :param target_vocab_to_int: Dictionary to go from the target words to an id\n",
    "    :param target_vocab_size: Size of target vocabulary\n",
    "    :param batch_size: The size of the batch\n",
    "    :param keep_prob: Dropout keep probability\n",
    "    :param decoding_embedding_size: Decoding embedding size\n",
    "    :return: Tuple of (Training BasicDecoderOutput, Inference BasicDecoderOutput)\n",
    "    \"\"\"\n",
    "    # TODO: Implement Function\n",
    "    decoder_embeddings = tf.Variable(tf.random_uniform([target_vocab_size, decoding_embedding_size]))\n",
    "    dec_emb_input = tf.nn.embedding_lookup(decoder_embeddings, dec_input)\n",
    "    dec_cell = tf.contrib.rnn.MultiRNNCell([tf.contrib.rnn.BasicLSTMCell(rnn_size) for _ in range(num_layers)])\n",
    "    output_layer = Dense(target_vocab_size, kernel_initializer = tf.truncated_normal_initializer(mean = 0.0, stddev=0.1))\n",
    "\n",
    "    with tf.variable_scope('decode') as decoding_scope:\n",
    "        training_decoder_output = decoding_layer_train(encoder_state, dec_cell, dec_emb_input, \n",
    "                                                       target_sequence_length, max_target_sequence_length, \n",
    "                                                       output_layer, keep_prob)\n",
    "    \n",
    "        decoding_scope.reuse_variables()\n",
    "        infer_decoder_output = decoding_layer_infer(encoder_state, dec_cell, decoder_embeddings, \n",
    "                                                    target_vocab_to_int['<GO>'], target_vocab_to_int['<EOS>'], \n",
    "                                                    max_target_sequence_length, target_vocab_size, output_layer,\n",
    "                                                    batch_size, keep_prob)\n",
    "    \n",
    "    return training_decoder_output, infer_decoder_output\n",
    "\n",
    "\n",
    "\n",
    "\n",
    "\"\"\"\n",
    "DON'T MODIFY ANYTHING IN THIS CELL THAT IS BELOW THIS LINE\n",
    "\"\"\"\n",
    "tests.test_decoding_layer(decoding_layer)"
   ]
  },
  {
   "cell_type": "markdown",
   "metadata": {},
   "source": [
    "### Build the Neural Network\n",
    "Apply the functions you implemented above to:\n",
    "\n",
    "- Encode the input using your `encoding_layer(rnn_inputs, rnn_size, num_layers, keep_prob,  source_sequence_length, source_vocab_size, encoding_embedding_size)`.\n",
    "- Process target data using your `process_decoder_input(target_data, target_vocab_to_int, batch_size)` function.\n",
    "- Decode the encoded input using your `decoding_layer(dec_input, enc_state, target_sequence_length, max_target_sentence_length, rnn_size, num_layers, target_vocab_to_int, target_vocab_size, batch_size, keep_prob, dec_embedding_size)` function."
   ]
  },
  {
   "cell_type": "code",
   "execution_count": 13,
   "metadata": {},
   "outputs": [
    {
     "name": "stdout",
     "output_type": "stream",
     "text": [
      "Tests Passed\n"
     ]
    }
   ],
   "source": [
    "def seq2seq_model(input_data, target_data, keep_prob, batch_size,\n",
    "                  source_sequence_length, target_sequence_length,\n",
    "                  max_target_sentence_length,\n",
    "                  source_vocab_size, target_vocab_size,\n",
    "                  enc_embedding_size, dec_embedding_size,\n",
    "                  rnn_size, num_layers, target_vocab_to_int):\n",
    "    \"\"\"\n",
    "    Build the Sequence-to-Sequence part of the neural network\n",
    "    :param input_data: Input placeholder\n",
    "    :param target_data: Target placeholder\n",
    "    :param keep_prob: Dropout keep probability placeholder\n",
    "    :param batch_size: Batch Size\n",
    "    :param source_sequence_length: Sequence Lengths of source sequences in the batch\n",
    "    :param target_sequence_length: Sequence Lengths of target sequences in the batch\n",
    "    :param source_vocab_size: Source vocabulary size\n",
    "    :param target_vocab_size: Target vocabulary size\n",
    "    :param enc_embedding_size: Decoder embedding size\n",
    "    :param dec_embedding_size: Encoder embedding size\n",
    "    :param rnn_size: RNN Size\n",
    "    :param num_layers: Number of layers\n",
    "    :param target_vocab_to_int: Dictionary to go from the target words to an id\n",
    "    :return: Tuple of (Training BasicDecoderOutput, Inference BasicDecoderOutput)\n",
    "    \"\"\"\n",
    "    # TODO: Implement Function\n",
    "    enc_output, enc_state = encoding_layer(input_data, rnn_size, num_layers, keep_prob, \n",
    "                                           source_sequence_length, source_vocab_size, \n",
    "                                           enc_embedding_size)\n",
    "    dec_input = process_decoder_input(target_data, target_vocab_to_int, batch_size)\n",
    "    output_train, output_infer  = decoding_layer(dec_input, enc_state, target_sequence_length, max_target_sentence_length, \n",
    "                                                 rnn_size, num_layers, target_vocab_to_int, target_vocab_size, batch_size,\n",
    "                                                 keep_prob, dec_embedding_size)\n",
    "    # TODO: Implement Function\n",
    "    return output_train, output_infer \n",
    "\n",
    "\n",
    "\n",
    "\"\"\"\n",
    "DON'T MODIFY ANYTHING IN THIS CELL THAT IS BELOW THIS LINE\n",
    "\"\"\"\n",
    "tests.test_seq2seq_model(seq2seq_model)"
   ]
  },
  {
   "cell_type": "markdown",
   "metadata": {},
   "source": [
    "## Neural Network Training\n",
    "### Hyperparameters\n",
    "Tune the following parameters:\n",
    "\n",
    "- Set `epochs` to the number of epochs.\n",
    "- Set `batch_size` to the batch size.\n",
    "- Set `rnn_size` to the size of the RNNs.\n",
    "- Set `num_layers` to the number of layers.\n",
    "- Set `encoding_embedding_size` to the size of the embedding for the encoder.\n",
    "- Set `decoding_embedding_size` to the size of the embedding for the decoder.\n",
    "- Set `learning_rate` to the learning rate.\n",
    "- Set `keep_probability` to the Dropout keep probability\n",
    "- Set `display_step` to state how many steps between each debug output statement"
   ]
  },
  {
   "cell_type": "code",
   "execution_count": 14,
   "metadata": {
    "collapsed": true
   },
   "outputs": [],
   "source": [
    "# Number of Epochs\n",
    "epochs = 16\n",
    "# Batch Size\n",
    "batch_size = 256\n",
    "# RNN Size\n",
    "rnn_size = 128\n",
    "# Number of Layers\n",
    "num_layers = 2\n",
    "# Embedding Size\n",
    "encoding_embedding_size = 128\n",
    "decoding_embedding_size = 15\n",
    "# Learning Rate\n",
    "learning_rate = 0.001\n",
    "# Dropout Keep Probability\n",
    "keep_probability = 0.75\n",
    "display_step = 40"
   ]
  },
  {
   "cell_type": "markdown",
   "metadata": {},
   "source": [
    "### Build the Graph\n",
    "Build the graph using the neural network you implemented."
   ]
  },
  {
   "cell_type": "code",
   "execution_count": 15,
   "metadata": {
    "collapsed": true
   },
   "outputs": [],
   "source": [
    "\"\"\"\n",
    "DON'T MODIFY ANYTHING IN THIS CELL\n",
    "\"\"\"\n",
    "save_path = 'checkpoints/dev'\n",
    "(source_int_text, target_int_text), (source_vocab_to_int, target_vocab_to_int), _ = helper.load_preprocess()\n",
    "max_target_sentence_length = max([len(sentence) for sentence in source_int_text])\n",
    "\n",
    "train_graph = tf.Graph()\n",
    "with train_graph.as_default():\n",
    "    input_data, targets, lr, keep_prob, target_sequence_length, max_target_sequence_length, source_sequence_length = model_inputs()\n",
    "\n",
    "    #sequence_length = tf.placeholder_with_default(max_target_sentence_length, None, name='sequence_length')\n",
    "    input_shape = tf.shape(input_data)\n",
    "\n",
    "    train_logits, inference_logits = seq2seq_model(tf.reverse(input_data, [-1]),\n",
    "                                                   targets,\n",
    "                                                   keep_prob,\n",
    "                                                   batch_size,\n",
    "                                                   source_sequence_length,\n",
    "                                                   target_sequence_length,\n",
    "                                                   max_target_sequence_length,\n",
    "                                                   len(source_vocab_to_int),\n",
    "                                                   len(target_vocab_to_int),\n",
    "                                                   encoding_embedding_size,\n",
    "                                                   decoding_embedding_size,\n",
    "                                                   rnn_size,\n",
    "                                                   num_layers,\n",
    "                                                   target_vocab_to_int)\n",
    "\n",
    "\n",
    "    training_logits = tf.identity(train_logits.rnn_output, name='logits')\n",
    "    inference_logits = tf.identity(inference_logits.sample_id, name='predictions')\n",
    "\n",
    "    masks = tf.sequence_mask(target_sequence_length, max_target_sequence_length, dtype=tf.float32, name='masks')\n",
    "\n",
    "    with tf.name_scope(\"optimization\"):\n",
    "        # Loss function\n",
    "        cost = tf.contrib.seq2seq.sequence_loss(\n",
    "            training_logits,\n",
    "            targets,\n",
    "            masks)\n",
    "\n",
    "        # Optimizer\n",
    "        optimizer = tf.train.AdamOptimizer(lr)\n",
    "\n",
    "        # Gradient Clipping\n",
    "        gradients = optimizer.compute_gradients(cost)\n",
    "        capped_gradients = [(tf.clip_by_value(grad, -1., 1.), var) for grad, var in gradients if grad is not None]\n",
    "        train_op = optimizer.apply_gradients(capped_gradients)\n"
   ]
  },
  {
   "cell_type": "markdown",
   "metadata": {},
   "source": [
    "Batch and pad the source and target sequences"
   ]
  },
  {
   "cell_type": "code",
   "execution_count": 16,
   "metadata": {
    "collapsed": true
   },
   "outputs": [],
   "source": [
    "\"\"\"\n",
    "DON'T MODIFY ANYTHING IN THIS CELL\n",
    "\"\"\"\n",
    "def pad_sentence_batch(sentence_batch, pad_int):\n",
    "    \"\"\"Pad sentences with <PAD> so that each sentence of a batch has the same length\"\"\"\n",
    "    max_sentence = max([len(sentence) for sentence in sentence_batch])\n",
    "    return [sentence + [pad_int] * (max_sentence - len(sentence)) for sentence in sentence_batch]\n",
    "\n",
    "\n",
    "def get_batches(sources, targets, batch_size, source_pad_int, target_pad_int):\n",
    "    \"\"\"Batch targets, sources, and the lengths of their sentences together\"\"\"\n",
    "    for batch_i in range(0, len(sources)//batch_size):\n",
    "        start_i = batch_i * batch_size\n",
    "\n",
    "        # Slice the right amount for the batch\n",
    "        sources_batch = sources[start_i:start_i + batch_size]\n",
    "        targets_batch = targets[start_i:start_i + batch_size]\n",
    "\n",
    "        # Pad\n",
    "        pad_sources_batch = np.array(pad_sentence_batch(sources_batch, source_pad_int))\n",
    "        pad_targets_batch = np.array(pad_sentence_batch(targets_batch, target_pad_int))\n",
    "\n",
    "        # Need the lengths for the _lengths parameters\n",
    "        pad_targets_lengths = []\n",
    "        for target in pad_targets_batch:\n",
    "            pad_targets_lengths.append(len(target))\n",
    "\n",
    "        pad_source_lengths = []\n",
    "        for source in pad_sources_batch:\n",
    "            pad_source_lengths.append(len(source))\n",
    "\n",
    "        yield pad_sources_batch, pad_targets_batch, pad_source_lengths, pad_targets_lengths\n"
   ]
  },
  {
   "cell_type": "markdown",
   "metadata": {},
   "source": [
    "### Train\n",
    "Train the neural network on the preprocessed data. If you have a hard time getting a good loss, check the forms to see if anyone is having the same problem."
   ]
  },
  {
   "cell_type": "code",
   "execution_count": 17,
   "metadata": {
    "scrolled": true
   },
   "outputs": [
    {
     "name": "stdout",
     "output_type": "stream",
     "text": [
      "Epoch   0 Batch   40/538 - Train Accuracy: 0.4261, Validation Accuracy: 0.4311, Loss: 2.7032\n",
      "Epoch   0 Batch   80/538 - Train Accuracy: 0.4031, Validation Accuracy: 0.4707, Loss: 2.6243\n",
      "Epoch   0 Batch  120/538 - Train Accuracy: 0.4408, Validation Accuracy: 0.4995, Loss: 2.3553\n",
      "Epoch   0 Batch  160/538 - Train Accuracy: 0.4974, Validation Accuracy: 0.5279, Loss: 2.1215\n",
      "Epoch   0 Batch  200/538 - Train Accuracy: 0.5078, Validation Accuracy: 0.5444, Loss: 1.9597\n",
      "Epoch   0 Batch  240/538 - Train Accuracy: 0.5094, Validation Accuracy: 0.5499, Loss: 1.7767\n",
      "Epoch   0 Batch  280/538 - Train Accuracy: 0.5437, Validation Accuracy: 0.5510, Loss: 1.5432\n",
      "Epoch   0 Batch  320/538 - Train Accuracy: 0.5526, Validation Accuracy: 0.5653, Loss: 1.5068\n",
      "Epoch   0 Batch  360/538 - Train Accuracy: 0.5172, Validation Accuracy: 0.5645, Loss: 1.4603\n",
      "Epoch   0 Batch  400/538 - Train Accuracy: 0.5491, Validation Accuracy: 0.5763, Loss: 1.3353\n",
      "Epoch   0 Batch  440/538 - Train Accuracy: 0.5318, Validation Accuracy: 0.5744, Loss: 1.3229\n",
      "Epoch   0 Batch  480/538 - Train Accuracy: 0.5485, Validation Accuracy: 0.5737, Loss: 1.1874\n",
      "Epoch   0 Batch  520/538 - Train Accuracy: 0.5541, Validation Accuracy: 0.5861, Loss: 1.1962\n",
      "Epoch   1 Batch   40/538 - Train Accuracy: 0.5946, Validation Accuracy: 0.5755, Loss: 0.9940\n",
      "Epoch   1 Batch   80/538 - Train Accuracy: 0.5506, Validation Accuracy: 0.5797, Loss: 1.0676\n",
      "Epoch   1 Batch  120/538 - Train Accuracy: 0.5754, Validation Accuracy: 0.6071, Loss: 0.9883\n",
      "Epoch   1 Batch  160/538 - Train Accuracy: 0.5876, Validation Accuracy: 0.6131, Loss: 0.8965\n",
      "Epoch   1 Batch  200/538 - Train Accuracy: 0.6016, Validation Accuracy: 0.6234, Loss: 0.8956\n",
      "Epoch   1 Batch  240/538 - Train Accuracy: 0.5805, Validation Accuracy: 0.6119, Loss: 0.8703\n",
      "Epoch   1 Batch  280/538 - Train Accuracy: 0.6509, Validation Accuracy: 0.6435, Loss: 0.7908\n",
      "Epoch   1 Batch  320/538 - Train Accuracy: 0.6358, Validation Accuracy: 0.6612, Loss: 0.7924\n",
      "Epoch   1 Batch  360/538 - Train Accuracy: 0.6301, Validation Accuracy: 0.6598, Loss: 0.7884\n",
      "Epoch   1 Batch  400/538 - Train Accuracy: 0.6365, Validation Accuracy: 0.6651, Loss: 0.7419\n",
      "Epoch   1 Batch  440/538 - Train Accuracy: 0.6318, Validation Accuracy: 0.6722, Loss: 0.7488\n",
      "Epoch   1 Batch  480/538 - Train Accuracy: 0.6568, Validation Accuracy: 0.6747, Loss: 0.6768\n",
      "Epoch   1 Batch  520/538 - Train Accuracy: 0.6516, Validation Accuracy: 0.6751, Loss: 0.7006\n",
      "Epoch   2 Batch   40/538 - Train Accuracy: 0.7122, Validation Accuracy: 0.6937, Loss: 0.5749\n",
      "Epoch   2 Batch   80/538 - Train Accuracy: 0.6771, Validation Accuracy: 0.7049, Loss: 0.6484\n",
      "Epoch   2 Batch  120/538 - Train Accuracy: 0.6838, Validation Accuracy: 0.7189, Loss: 0.5864\n",
      "Epoch   2 Batch  160/538 - Train Accuracy: 0.7191, Validation Accuracy: 0.7477, Loss: 0.5466\n",
      "Epoch   2 Batch  200/538 - Train Accuracy: 0.7287, Validation Accuracy: 0.7346, Loss: 0.5341\n",
      "Epoch   2 Batch  240/538 - Train Accuracy: 0.7338, Validation Accuracy: 0.7356, Loss: 0.5416\n",
      "Epoch   2 Batch  280/538 - Train Accuracy: 0.7210, Validation Accuracy: 0.7340, Loss: 0.4920\n",
      "Epoch   2 Batch  320/538 - Train Accuracy: 0.7286, Validation Accuracy: 0.7443, Loss: 0.4964\n",
      "Epoch   2 Batch  360/538 - Train Accuracy: 0.7420, Validation Accuracy: 0.7551, Loss: 0.4919\n",
      "Epoch   2 Batch  400/538 - Train Accuracy: 0.7567, Validation Accuracy: 0.7670, Loss: 0.4623\n",
      "Epoch   2 Batch  440/538 - Train Accuracy: 0.7652, Validation Accuracy: 0.7559, Loss: 0.4786\n",
      "Epoch   2 Batch  480/538 - Train Accuracy: 0.7907, Validation Accuracy: 0.7701, Loss: 0.4214\n",
      "Epoch   2 Batch  520/538 - Train Accuracy: 0.7588, Validation Accuracy: 0.7740, Loss: 0.4422\n",
      "Epoch   3 Batch   40/538 - Train Accuracy: 0.8010, Validation Accuracy: 0.7770, Loss: 0.3540\n",
      "Epoch   3 Batch   80/538 - Train Accuracy: 0.7568, Validation Accuracy: 0.7823, Loss: 0.4007\n",
      "Epoch   3 Batch  120/538 - Train Accuracy: 0.8104, Validation Accuracy: 0.7891, Loss: 0.3489\n",
      "Epoch   3 Batch  160/538 - Train Accuracy: 0.7857, Validation Accuracy: 0.7958, Loss: 0.3358\n",
      "Epoch   3 Batch  200/538 - Train Accuracy: 0.7887, Validation Accuracy: 0.8049, Loss: 0.3220\n",
      "Epoch   3 Batch  240/538 - Train Accuracy: 0.8012, Validation Accuracy: 0.8150, Loss: 0.3316\n",
      "Epoch   3 Batch  280/538 - Train Accuracy: 0.8218, Validation Accuracy: 0.8050, Loss: 0.2938\n",
      "Epoch   3 Batch  320/538 - Train Accuracy: 0.8043, Validation Accuracy: 0.8246, Loss: 0.2911\n",
      "Epoch   3 Batch  360/538 - Train Accuracy: 0.8129, Validation Accuracy: 0.8350, Loss: 0.2897\n",
      "Epoch   3 Batch  400/538 - Train Accuracy: 0.8441, Validation Accuracy: 0.8397, Loss: 0.2774\n",
      "Epoch   3 Batch  440/538 - Train Accuracy: 0.8430, Validation Accuracy: 0.8361, Loss: 0.2909\n",
      "Epoch   3 Batch  480/538 - Train Accuracy: 0.8590, Validation Accuracy: 0.8496, Loss: 0.2439\n",
      "Epoch   3 Batch  520/538 - Train Accuracy: 0.8248, Validation Accuracy: 0.8436, Loss: 0.2621\n",
      "Epoch   4 Batch   40/538 - Train Accuracy: 0.8588, Validation Accuracy: 0.8521, Loss: 0.2021\n",
      "Epoch   4 Batch   80/538 - Train Accuracy: 0.8572, Validation Accuracy: 0.8606, Loss: 0.2328\n",
      "Epoch   4 Batch  120/538 - Train Accuracy: 0.8709, Validation Accuracy: 0.8647, Loss: 0.1918\n",
      "Epoch   4 Batch  160/538 - Train Accuracy: 0.8633, Validation Accuracy: 0.8727, Loss: 0.1925\n",
      "Epoch   4 Batch  200/538 - Train Accuracy: 0.8820, Validation Accuracy: 0.8695, Loss: 0.1829\n",
      "Epoch   4 Batch  240/538 - Train Accuracy: 0.8855, Validation Accuracy: 0.8867, Loss: 0.1863\n",
      "Epoch   4 Batch  280/538 - Train Accuracy: 0.9046, Validation Accuracy: 0.8739, Loss: 0.1640\n",
      "Epoch   4 Batch  320/538 - Train Accuracy: 0.8923, Validation Accuracy: 0.8855, Loss: 0.1565\n",
      "Epoch   4 Batch  360/538 - Train Accuracy: 0.8873, Validation Accuracy: 0.8901, Loss: 0.1576\n",
      "Epoch   4 Batch  400/538 - Train Accuracy: 0.8953, Validation Accuracy: 0.8851, Loss: 0.1572\n",
      "Epoch   4 Batch  440/538 - Train Accuracy: 0.8895, Validation Accuracy: 0.9000, Loss: 0.1604\n",
      "Epoch   4 Batch  480/538 - Train Accuracy: 0.9059, Validation Accuracy: 0.8917, Loss: 0.1299\n",
      "Epoch   4 Batch  520/538 - Train Accuracy: 0.8961, Validation Accuracy: 0.8864, Loss: 0.1427\n",
      "Epoch   5 Batch   40/538 - Train Accuracy: 0.9094, Validation Accuracy: 0.8967, Loss: 0.1088\n",
      "Epoch   5 Batch   80/538 - Train Accuracy: 0.9066, Validation Accuracy: 0.9038, Loss: 0.1246\n",
      "Epoch   5 Batch  120/538 - Train Accuracy: 0.9223, Validation Accuracy: 0.9055, Loss: 0.0972\n",
      "Epoch   5 Batch  160/538 - Train Accuracy: 0.8927, Validation Accuracy: 0.8958, Loss: 0.1010\n",
      "Epoch   5 Batch  200/538 - Train Accuracy: 0.9215, Validation Accuracy: 0.9094, Loss: 0.0973\n",
      "Epoch   5 Batch  240/538 - Train Accuracy: 0.9285, Validation Accuracy: 0.9197, Loss: 0.1009\n",
      "Epoch   5 Batch  280/538 - Train Accuracy: 0.9364, Validation Accuracy: 0.9102, Loss: 0.0857\n",
      "Epoch   5 Batch  320/538 - Train Accuracy: 0.9235, Validation Accuracy: 0.9219, Loss: 0.0837\n",
      "Epoch   5 Batch  360/538 - Train Accuracy: 0.9193, Validation Accuracy: 0.9151, Loss: 0.0859\n",
      "Epoch   5 Batch  400/538 - Train Accuracy: 0.9330, Validation Accuracy: 0.9158, Loss: 0.0908\n",
      "Epoch   5 Batch  440/538 - Train Accuracy: 0.9182, Validation Accuracy: 0.9167, Loss: 0.0950\n",
      "Epoch   5 Batch  480/538 - Train Accuracy: 0.9317, Validation Accuracy: 0.9192, Loss: 0.0734\n",
      "Epoch   5 Batch  520/538 - Train Accuracy: 0.9123, Validation Accuracy: 0.9205, Loss: 0.0845\n",
      "Epoch   6 Batch   40/538 - Train Accuracy: 0.9183, Validation Accuracy: 0.9235, Loss: 0.0644\n",
      "Epoch   6 Batch   80/538 - Train Accuracy: 0.9270, Validation Accuracy: 0.9235, Loss: 0.0767\n",
      "Epoch   6 Batch  120/538 - Train Accuracy: 0.9385, Validation Accuracy: 0.9160, Loss: 0.0577\n",
      "Epoch   6 Batch  160/538 - Train Accuracy: 0.9204, Validation Accuracy: 0.9197, Loss: 0.0631\n",
      "Epoch   6 Batch  200/538 - Train Accuracy: 0.9320, Validation Accuracy: 0.9293, Loss: 0.0601\n",
      "Epoch   6 Batch  240/538 - Train Accuracy: 0.9475, Validation Accuracy: 0.9370, Loss: 0.0648\n",
      "Epoch   6 Batch  280/538 - Train Accuracy: 0.9537, Validation Accuracy: 0.9375, Loss: 0.0530\n",
      "Epoch   6 Batch  320/538 - Train Accuracy: 0.9356, Validation Accuracy: 0.9393, Loss: 0.0552\n",
      "Epoch   6 Batch  360/538 - Train Accuracy: 0.9311, Validation Accuracy: 0.9446, Loss: 0.0568\n",
      "Epoch   6 Batch  400/538 - Train Accuracy: 0.9429, Validation Accuracy: 0.9322, Loss: 0.0611\n",
      "Epoch   6 Batch  440/538 - Train Accuracy: 0.9205, Validation Accuracy: 0.9419, Loss: 0.0622\n"
     ]
    },
    {
     "name": "stdout",
     "output_type": "stream",
     "text": [
      "Epoch   6 Batch  480/538 - Train Accuracy: 0.9516, Validation Accuracy: 0.9464, Loss: 0.0511\n",
      "Epoch   6 Batch  520/538 - Train Accuracy: 0.9184, Validation Accuracy: 0.9339, Loss: 0.0582\n",
      "Epoch   7 Batch   40/538 - Train Accuracy: 0.9354, Validation Accuracy: 0.9338, Loss: 0.0450\n",
      "Epoch   7 Batch   80/538 - Train Accuracy: 0.9355, Validation Accuracy: 0.9412, Loss: 0.0580\n",
      "Epoch   7 Batch  120/538 - Train Accuracy: 0.9410, Validation Accuracy: 0.9203, Loss: 0.0407\n",
      "Epoch   7 Batch  160/538 - Train Accuracy: 0.9291, Validation Accuracy: 0.9384, Loss: 0.0452\n",
      "Epoch   7 Batch  200/538 - Train Accuracy: 0.9521, Validation Accuracy: 0.9556, Loss: 0.0421\n",
      "Epoch   7 Batch  240/538 - Train Accuracy: 0.9395, Validation Accuracy: 0.9517, Loss: 0.0469\n",
      "Epoch   7 Batch  280/538 - Train Accuracy: 0.9568, Validation Accuracy: 0.9522, Loss: 0.0387\n",
      "Epoch   7 Batch  320/538 - Train Accuracy: 0.9481, Validation Accuracy: 0.9560, Loss: 0.0418\n",
      "Epoch   7 Batch  360/538 - Train Accuracy: 0.9395, Validation Accuracy: 0.9478, Loss: 0.0427\n",
      "Epoch   7 Batch  400/538 - Train Accuracy: 0.9542, Validation Accuracy: 0.9416, Loss: 0.0459\n",
      "Epoch   7 Batch  440/538 - Train Accuracy: 0.9266, Validation Accuracy: 0.9537, Loss: 0.0477\n",
      "Epoch   7 Batch  480/538 - Train Accuracy: 0.9565, Validation Accuracy: 0.9553, Loss: 0.0407\n",
      "Epoch   7 Batch  520/538 - Train Accuracy: 0.9354, Validation Accuracy: 0.9487, Loss: 0.0446\n",
      "Epoch   8 Batch   40/538 - Train Accuracy: 0.9425, Validation Accuracy: 0.9462, Loss: 0.0338\n",
      "Epoch   8 Batch   80/538 - Train Accuracy: 0.9467, Validation Accuracy: 0.9567, Loss: 0.0446\n",
      "Epoch   8 Batch  120/538 - Train Accuracy: 0.9437, Validation Accuracy: 0.9306, Loss: 0.0297\n",
      "Epoch   8 Batch  160/538 - Train Accuracy: 0.9442, Validation Accuracy: 0.9519, Loss: 0.0348\n",
      "Epoch   8 Batch  200/538 - Train Accuracy: 0.9617, Validation Accuracy: 0.9529, Loss: 0.0319\n",
      "Epoch   8 Batch  240/538 - Train Accuracy: 0.9471, Validation Accuracy: 0.9593, Loss: 0.0373\n",
      "Epoch   8 Batch  280/538 - Train Accuracy: 0.9594, Validation Accuracy: 0.9600, Loss: 0.0306\n",
      "Epoch   8 Batch  320/538 - Train Accuracy: 0.9617, Validation Accuracy: 0.9624, Loss: 0.0327\n",
      "Epoch   8 Batch  360/538 - Train Accuracy: 0.9465, Validation Accuracy: 0.9517, Loss: 0.0344\n",
      "Epoch   8 Batch  400/538 - Train Accuracy: 0.9550, Validation Accuracy: 0.9441, Loss: 0.0381\n",
      "Epoch   8 Batch  440/538 - Train Accuracy: 0.9469, Validation Accuracy: 0.9528, Loss: 0.0376\n",
      "Epoch   8 Batch  480/538 - Train Accuracy: 0.9663, Validation Accuracy: 0.9608, Loss: 0.0307\n",
      "Epoch   8 Batch  520/538 - Train Accuracy: 0.9437, Validation Accuracy: 0.9634, Loss: 0.0365\n",
      "Epoch   9 Batch   40/538 - Train Accuracy: 0.9499, Validation Accuracy: 0.9583, Loss: 0.0276\n",
      "Epoch   9 Batch   80/538 - Train Accuracy: 0.9520, Validation Accuracy: 0.9611, Loss: 0.0367\n",
      "Epoch   9 Batch  120/538 - Train Accuracy: 0.9570, Validation Accuracy: 0.9489, Loss: 0.0222\n",
      "Epoch   9 Batch  160/538 - Train Accuracy: 0.9511, Validation Accuracy: 0.9581, Loss: 0.0284\n",
      "Epoch   9 Batch  200/538 - Train Accuracy: 0.9660, Validation Accuracy: 0.9535, Loss: 0.0260\n",
      "Epoch   9 Batch  240/538 - Train Accuracy: 0.9590, Validation Accuracy: 0.9590, Loss: 0.0312\n",
      "Epoch   9 Batch  280/538 - Train Accuracy: 0.9637, Validation Accuracy: 0.9592, Loss: 0.0257\n",
      "Epoch   9 Batch  320/538 - Train Accuracy: 0.9669, Validation Accuracy: 0.9602, Loss: 0.0267\n",
      "Epoch   9 Batch  360/538 - Train Accuracy: 0.9566, Validation Accuracy: 0.9531, Loss: 0.0266\n",
      "Epoch   9 Batch  400/538 - Train Accuracy: 0.9600, Validation Accuracy: 0.9450, Loss: 0.0318\n",
      "Epoch   9 Batch  440/538 - Train Accuracy: 0.9666, Validation Accuracy: 0.9643, Loss: 0.0285\n",
      "Epoch   9 Batch  480/538 - Train Accuracy: 0.9688, Validation Accuracy: 0.9506, Loss: 0.0248\n",
      "Epoch   9 Batch  520/538 - Train Accuracy: 0.9443, Validation Accuracy: 0.9609, Loss: 0.0314\n",
      "Epoch  10 Batch   40/538 - Train Accuracy: 0.9624, Validation Accuracy: 0.9585, Loss: 0.0230\n",
      "Epoch  10 Batch   80/538 - Train Accuracy: 0.9469, Validation Accuracy: 0.9616, Loss: 0.0311\n",
      "Epoch  10 Batch  120/538 - Train Accuracy: 0.9689, Validation Accuracy: 0.9551, Loss: 0.0191\n",
      "Epoch  10 Batch  160/538 - Train Accuracy: 0.9565, Validation Accuracy: 0.9622, Loss: 0.0250\n",
      "Epoch  10 Batch  200/538 - Train Accuracy: 0.9791, Validation Accuracy: 0.9592, Loss: 0.0222\n",
      "Epoch  10 Batch  240/538 - Train Accuracy: 0.9611, Validation Accuracy: 0.9606, Loss: 0.0268\n",
      "Epoch  10 Batch  280/538 - Train Accuracy: 0.9583, Validation Accuracy: 0.9661, Loss: 0.0214\n",
      "Epoch  10 Batch  320/538 - Train Accuracy: 0.9708, Validation Accuracy: 0.9597, Loss: 0.0221\n",
      "Epoch  10 Batch  360/538 - Train Accuracy: 0.9611, Validation Accuracy: 0.9647, Loss: 0.0216\n",
      "Epoch  10 Batch  400/538 - Train Accuracy: 0.9628, Validation Accuracy: 0.9467, Loss: 0.0269\n",
      "Epoch  10 Batch  440/538 - Train Accuracy: 0.9641, Validation Accuracy: 0.9689, Loss: 0.0236\n",
      "Epoch  10 Batch  480/538 - Train Accuracy: 0.9779, Validation Accuracy: 0.9506, Loss: 0.0209\n",
      "Epoch  10 Batch  520/538 - Train Accuracy: 0.9480, Validation Accuracy: 0.9600, Loss: 0.0273\n",
      "Epoch  11 Batch   40/538 - Train Accuracy: 0.9702, Validation Accuracy: 0.9670, Loss: 0.0188\n",
      "Epoch  11 Batch   80/538 - Train Accuracy: 0.9529, Validation Accuracy: 0.9632, Loss: 0.0244\n",
      "Epoch  11 Batch  120/538 - Train Accuracy: 0.9748, Validation Accuracy: 0.9544, Loss: 0.0171\n",
      "Epoch  11 Batch  160/538 - Train Accuracy: 0.9585, Validation Accuracy: 0.9691, Loss: 0.0224\n",
      "Epoch  11 Batch  200/538 - Train Accuracy: 0.9727, Validation Accuracy: 0.9551, Loss: 0.0192\n",
      "Epoch  11 Batch  240/538 - Train Accuracy: 0.9658, Validation Accuracy: 0.9634, Loss: 0.0243\n",
      "Epoch  11 Batch  280/538 - Train Accuracy: 0.9645, Validation Accuracy: 0.9689, Loss: 0.0172\n",
      "Epoch  11 Batch  320/538 - Train Accuracy: 0.9732, Validation Accuracy: 0.9581, Loss: 0.0176\n",
      "Epoch  11 Batch  360/538 - Train Accuracy: 0.9744, Validation Accuracy: 0.9638, Loss: 0.0188\n",
      "Epoch  11 Batch  400/538 - Train Accuracy: 0.9715, Validation Accuracy: 0.9503, Loss: 0.0224\n",
      "Epoch  11 Batch  440/538 - Train Accuracy: 0.9699, Validation Accuracy: 0.9664, Loss: 0.0209\n",
      "Epoch  11 Batch  480/538 - Train Accuracy: 0.9821, Validation Accuracy: 0.9444, Loss: 0.0185\n",
      "Epoch  11 Batch  520/538 - Train Accuracy: 0.9650, Validation Accuracy: 0.9604, Loss: 0.0237\n",
      "Epoch  12 Batch   40/538 - Train Accuracy: 0.9686, Validation Accuracy: 0.9705, Loss: 0.0168\n",
      "Epoch  12 Batch   80/538 - Train Accuracy: 0.9721, Validation Accuracy: 0.9721, Loss: 0.0197\n",
      "Epoch  12 Batch  120/538 - Train Accuracy: 0.9771, Validation Accuracy: 0.9716, Loss: 0.0145\n",
      "Epoch  12 Batch  160/538 - Train Accuracy: 0.9652, Validation Accuracy: 0.9702, Loss: 0.0193\n",
      "Epoch  12 Batch  200/538 - Train Accuracy: 0.9848, Validation Accuracy: 0.9597, Loss: 0.0163\n",
      "Epoch  12 Batch  240/538 - Train Accuracy: 0.9600, Validation Accuracy: 0.9592, Loss: 0.0200\n",
      "Epoch  12 Batch  280/538 - Train Accuracy: 0.9676, Validation Accuracy: 0.9719, Loss: 0.0147\n",
      "Epoch  12 Batch  320/538 - Train Accuracy: 0.9693, Validation Accuracy: 0.9625, Loss: 0.0149\n",
      "Epoch  12 Batch  360/538 - Train Accuracy: 0.9783, Validation Accuracy: 0.9654, Loss: 0.0151\n",
      "Epoch  12 Batch  400/538 - Train Accuracy: 0.9782, Validation Accuracy: 0.9554, Loss: 0.0191\n",
      "Epoch  12 Batch  440/538 - Train Accuracy: 0.9770, Validation Accuracy: 0.9643, Loss: 0.0164\n",
      "Epoch  12 Batch  480/538 - Train Accuracy: 0.9795, Validation Accuracy: 0.9576, Loss: 0.0162\n",
      "Epoch  12 Batch  520/538 - Train Accuracy: 0.9760, Validation Accuracy: 0.9616, Loss: 0.0215\n",
      "Epoch  13 Batch   40/538 - Train Accuracy: 0.9680, Validation Accuracy: 0.9718, Loss: 0.0152\n",
      "Epoch  13 Batch   80/538 - Train Accuracy: 0.9807, Validation Accuracy: 0.9668, Loss: 0.0169\n",
      "Epoch  13 Batch  120/538 - Train Accuracy: 0.9768, Validation Accuracy: 0.9670, Loss: 0.0127\n",
      "Epoch  13 Batch  160/538 - Train Accuracy: 0.9660, Validation Accuracy: 0.9723, Loss: 0.0160\n",
      "Epoch  13 Batch  200/538 - Train Accuracy: 0.9797, Validation Accuracy: 0.9629, Loss: 0.0152\n",
      "Epoch  13 Batch  240/538 - Train Accuracy: 0.9725, Validation Accuracy: 0.9631, Loss: 0.0167\n",
      "Epoch  13 Batch  280/538 - Train Accuracy: 0.9725, Validation Accuracy: 0.9716, Loss: 0.0129\n",
      "Epoch  13 Batch  320/538 - Train Accuracy: 0.9853, Validation Accuracy: 0.9689, Loss: 0.0141\n",
      "Epoch  13 Batch  360/538 - Train Accuracy: 0.9811, Validation Accuracy: 0.9698, Loss: 0.0128\n"
     ]
    },
    {
     "name": "stdout",
     "output_type": "stream",
     "text": [
      "Epoch  13 Batch  400/538 - Train Accuracy: 0.9812, Validation Accuracy: 0.9632, Loss: 0.0163\n",
      "Epoch  13 Batch  440/538 - Train Accuracy: 0.9748, Validation Accuracy: 0.9711, Loss: 0.0153\n",
      "Epoch  13 Batch  480/538 - Train Accuracy: 0.9851, Validation Accuracy: 0.9636, Loss: 0.0140\n",
      "Epoch  13 Batch  520/538 - Train Accuracy: 0.9859, Validation Accuracy: 0.9647, Loss: 0.0186\n",
      "Epoch  14 Batch   40/538 - Train Accuracy: 0.9751, Validation Accuracy: 0.9751, Loss: 0.0135\n",
      "Epoch  14 Batch   80/538 - Train Accuracy: 0.9809, Validation Accuracy: 0.9661, Loss: 0.0139\n",
      "Epoch  14 Batch  120/538 - Train Accuracy: 0.9822, Validation Accuracy: 0.9652, Loss: 0.0117\n",
      "Epoch  14 Batch  160/538 - Train Accuracy: 0.9725, Validation Accuracy: 0.9728, Loss: 0.0146\n",
      "Epoch  14 Batch  200/538 - Train Accuracy: 0.9785, Validation Accuracy: 0.9700, Loss: 0.0129\n",
      "Epoch  14 Batch  240/538 - Train Accuracy: 0.9707, Validation Accuracy: 0.9533, Loss: 0.0152\n",
      "Epoch  14 Batch  280/538 - Train Accuracy: 0.9727, Validation Accuracy: 0.9759, Loss: 0.0120\n",
      "Epoch  14 Batch  320/538 - Train Accuracy: 0.9820, Validation Accuracy: 0.9725, Loss: 0.0122\n",
      "Epoch  14 Batch  360/538 - Train Accuracy: 0.9816, Validation Accuracy: 0.9693, Loss: 0.0108\n",
      "Epoch  14 Batch  400/538 - Train Accuracy: 0.9831, Validation Accuracy: 0.9728, Loss: 0.0145\n",
      "Epoch  14 Batch  440/538 - Train Accuracy: 0.9803, Validation Accuracy: 0.9661, Loss: 0.0127\n",
      "Epoch  14 Batch  480/538 - Train Accuracy: 0.9857, Validation Accuracy: 0.9615, Loss: 0.0128\n",
      "Epoch  14 Batch  520/538 - Train Accuracy: 0.9811, Validation Accuracy: 0.9632, Loss: 0.0168\n",
      "Epoch  15 Batch   40/538 - Train Accuracy: 0.9727, Validation Accuracy: 0.9762, Loss: 0.0124\n",
      "Epoch  15 Batch   80/538 - Train Accuracy: 0.9805, Validation Accuracy: 0.9672, Loss: 0.0121\n",
      "Epoch  15 Batch  120/538 - Train Accuracy: 0.9850, Validation Accuracy: 0.9684, Loss: 0.0102\n",
      "Epoch  15 Batch  160/538 - Train Accuracy: 0.9807, Validation Accuracy: 0.9732, Loss: 0.0135\n",
      "Epoch  15 Batch  200/538 - Train Accuracy: 0.9816, Validation Accuracy: 0.9707, Loss: 0.0112\n",
      "Epoch  15 Batch  240/538 - Train Accuracy: 0.9738, Validation Accuracy: 0.9682, Loss: 0.0130\n",
      "Epoch  15 Batch  280/538 - Train Accuracy: 0.9764, Validation Accuracy: 0.9746, Loss: 0.0105\n",
      "Epoch  15 Batch  320/538 - Train Accuracy: 0.9894, Validation Accuracy: 0.9760, Loss: 0.0093\n",
      "Epoch  15 Batch  360/538 - Train Accuracy: 0.9855, Validation Accuracy: 0.9691, Loss: 0.0093\n",
      "Epoch  15 Batch  400/538 - Train Accuracy: 0.9853, Validation Accuracy: 0.9691, Loss: 0.0127\n",
      "Epoch  15 Batch  440/538 - Train Accuracy: 0.9861, Validation Accuracy: 0.9663, Loss: 0.0116\n",
      "Epoch  15 Batch  480/538 - Train Accuracy: 0.9860, Validation Accuracy: 0.9576, Loss: 0.0118\n",
      "Epoch  15 Batch  520/538 - Train Accuracy: 0.9801, Validation Accuracy: 0.9721, Loss: 0.0156\n",
      "Model Trained and Saved\n"
     ]
    }
   ],
   "source": [
    "\"\"\"\n",
    "DON'T MODIFY ANYTHING IN THIS CELL\n",
    "\"\"\"\n",
    "def get_accuracy(target, logits):\n",
    "    \"\"\"\n",
    "    Calculate accuracy\n",
    "    \"\"\"\n",
    "    max_seq = max(target.shape[1], logits.shape[1])\n",
    "    if max_seq - target.shape[1]:\n",
    "        target = np.pad(\n",
    "            target,\n",
    "            [(0,0),(0,max_seq - target.shape[1])],\n",
    "            'constant')\n",
    "    if max_seq - logits.shape[1]:\n",
    "        logits = np.pad(\n",
    "            logits,\n",
    "            [(0,0),(0,max_seq - logits.shape[1])],\n",
    "            'constant')\n",
    "\n",
    "    return np.mean(np.equal(target, logits))\n",
    "\n",
    "# Split data to training and validation sets\n",
    "train_source = source_int_text[batch_size:]\n",
    "train_target = target_int_text[batch_size:]\n",
    "valid_source = source_int_text[:batch_size]\n",
    "valid_target = target_int_text[:batch_size]\n",
    "(valid_sources_batch, valid_targets_batch, valid_sources_lengths, valid_targets_lengths ) = next(get_batches(valid_source,\n",
    "                                                                                                             valid_target,\n",
    "                                                                                                             batch_size,\n",
    "                                                                                                             source_vocab_to_int['<PAD>'],\n",
    "                                                                                                             target_vocab_to_int['<PAD>']))                                                                                                  \n",
    "with tf.Session(graph=train_graph) as sess:\n",
    "    sess.run(tf.global_variables_initializer())\n",
    "\n",
    "    for epoch_i in range(epochs):\n",
    "        for batch_i, (source_batch, target_batch, sources_lengths, targets_lengths) in enumerate(\n",
    "                get_batches(train_source, train_target, batch_size,\n",
    "                            source_vocab_to_int['<PAD>'],\n",
    "                            target_vocab_to_int['<PAD>'])):\n",
    "\n",
    "            _, loss = sess.run(\n",
    "                [train_op, cost],\n",
    "                {input_data: source_batch,\n",
    "                 targets: target_batch,\n",
    "                 lr: learning_rate,\n",
    "                 target_sequence_length: targets_lengths,\n",
    "                 source_sequence_length: sources_lengths,\n",
    "                 keep_prob: keep_probability})\n",
    "\n",
    "\n",
    "            if batch_i % display_step == 0 and batch_i > 0:\n",
    "\n",
    "\n",
    "                batch_train_logits = sess.run(\n",
    "                    inference_logits,\n",
    "                    {input_data: source_batch,\n",
    "                     source_sequence_length: sources_lengths,\n",
    "                     target_sequence_length: targets_lengths,\n",
    "                     keep_prob: 1.0})\n",
    "\n",
    "\n",
    "                batch_valid_logits = sess.run(\n",
    "                    inference_logits,\n",
    "                    {input_data: valid_sources_batch,\n",
    "                     source_sequence_length: valid_sources_lengths,\n",
    "                     target_sequence_length: valid_targets_lengths,\n",
    "                     keep_prob: 1.0})\n",
    "\n",
    "                train_acc = get_accuracy(target_batch, batch_train_logits)\n",
    "\n",
    "                valid_acc = get_accuracy(valid_targets_batch, batch_valid_logits)\n",
    "\n",
    "                print('Epoch {:>3} Batch {:>4}/{} - Train Accuracy: {:>6.4f}, Validation Accuracy: {:>6.4f}, Loss: {:>6.4f}'\n",
    "                      .format(epoch_i, batch_i, len(source_int_text) // batch_size, train_acc, valid_acc, loss))\n",
    "\n",
    "    # Save Model\n",
    "    saver = tf.train.Saver()\n",
    "    saver.save(sess, save_path)\n",
    "    print('Model Trained and Saved')"
   ]
  },
  {
   "cell_type": "markdown",
   "metadata": {},
   "source": [
    "### Save Parameters\n",
    "Save the `batch_size` and `save_path` parameters for inference."
   ]
  },
  {
   "cell_type": "code",
   "execution_count": 18,
   "metadata": {
    "collapsed": true
   },
   "outputs": [],
   "source": [
    "\"\"\"\n",
    "DON'T MODIFY ANYTHING IN THIS CELL\n",
    "\"\"\"\n",
    "# Save parameters for checkpoint\n",
    "helper.save_params(save_path)"
   ]
  },
  {
   "cell_type": "markdown",
   "metadata": {},
   "source": [
    "# Checkpoint"
   ]
  },
  {
   "cell_type": "code",
   "execution_count": 19,
   "metadata": {
    "collapsed": true
   },
   "outputs": [],
   "source": [
    "\"\"\"\n",
    "DON'T MODIFY ANYTHING IN THIS CELL\n",
    "\"\"\"\n",
    "import tensorflow as tf\n",
    "import numpy as np\n",
    "import helper\n",
    "import problem_unittests as tests\n",
    "\n",
    "_, (source_vocab_to_int, target_vocab_to_int), (source_int_to_vocab, target_int_to_vocab) = helper.load_preprocess()\n",
    "load_path = helper.load_params()"
   ]
  },
  {
   "cell_type": "markdown",
   "metadata": {},
   "source": [
    "## Sentence to Sequence\n",
    "To feed a sentence into the model for translation, you first need to preprocess it.  Implement the function `sentence_to_seq()` to preprocess new sentences.\n",
    "\n",
    "- Convert the sentence to lowercase\n",
    "- Convert words into ids using `vocab_to_int`\n",
    " - Convert words not in the vocabulary, to the `<UNK>` word id."
   ]
  },
  {
   "cell_type": "code",
   "execution_count": 20,
   "metadata": {},
   "outputs": [
    {
     "name": "stdout",
     "output_type": "stream",
     "text": [
      "Tests Passed\n"
     ]
    }
   ],
   "source": [
    "def sentence_to_seq(sentence, vocab_to_int):\n",
    "    \"\"\"\n",
    "    Convert a sentence to a sequence of ids\n",
    "    :param sentence: String\n",
    "    :param vocab_to_int: Dictionary to go from the words to an id\n",
    "    :return: List of word ids\n",
    "    \"\"\"\n",
    "    # TODO: Implement Function\n",
    "    sentence = sentence.lower()\n",
    "    words = sentence.split()\n",
    "    word_id_list = [vocab_to_int.get(word, vocab_to_int['<UNK>']) for word in words]\n",
    "    return word_id_list\n",
    "\n",
    "\n",
    "\"\"\"\n",
    "DON'T MODIFY ANYTHING IN THIS CELL THAT IS BELOW THIS LINE\n",
    "\"\"\"\n",
    "tests.test_sentence_to_seq(sentence_to_seq)"
   ]
  },
  {
   "cell_type": "markdown",
   "metadata": {},
   "source": [
    "## Translate\n",
    "This will translate `translate_sentence` from English to French."
   ]
  },
  {
   "cell_type": "code",
   "execution_count": 22,
   "metadata": {},
   "outputs": [
    {
     "name": "stdout",
     "output_type": "stream",
     "text": [
      "INFO:tensorflow:Restoring parameters from checkpoints/dev\n",
      "Input\n",
      "  Word Ids:      [51, 228, 93, 64, 216, 187, 4]\n",
      "  English Words: ['he', 'saw', 'a', 'old', 'yellow', 'truck', '.']\n",
      "\n",
      "Prediction\n",
      "  Word Ids:      [115, 304, 130, 56, 144, 225, 1]\n",
      "  French Words: il a vu un vieux camion <EOS>\n"
     ]
    }
   ],
   "source": [
    "translate_sentence = 'he saw a old yellow truck .'\n",
    "\n",
    "\n",
    "\"\"\"\n",
    "DON'T MODIFY ANYTHING IN THIS CELL\n",
    "\"\"\"\n",
    "translate_sentence = sentence_to_seq(translate_sentence, source_vocab_to_int)\n",
    "\n",
    "loaded_graph = tf.Graph()\n",
    "with tf.Session(graph=loaded_graph) as sess:\n",
    "    # Load saved model\n",
    "    loader = tf.train.import_meta_graph(load_path + '.meta')\n",
    "    loader.restore(sess, load_path)\n",
    "\n",
    "    input_data = loaded_graph.get_tensor_by_name('input:0')\n",
    "    logits = loaded_graph.get_tensor_by_name('predictions:0')\n",
    "    target_sequence_length = loaded_graph.get_tensor_by_name('target_sequence_length:0')\n",
    "    source_sequence_length = loaded_graph.get_tensor_by_name('source_sequence_length:0')\n",
    "    keep_prob = loaded_graph.get_tensor_by_name('keep_prob:0')\n",
    "\n",
    "    translate_logits = sess.run(logits, {input_data: [translate_sentence]*batch_size,\n",
    "                                         target_sequence_length: [len(translate_sentence)*2]*batch_size,\n",
    "                                         source_sequence_length: [len(translate_sentence)]*batch_size,\n",
    "                                         keep_prob: 1.0})[0]\n",
    "\n",
    "print('Input')\n",
    "print('  Word Ids:      {}'.format([i for i in translate_sentence]))\n",
    "print('  English Words: {}'.format([source_int_to_vocab[i] for i in translate_sentence]))\n",
    "\n",
    "print('\\nPrediction')\n",
    "print('  Word Ids:      {}'.format([i for i in translate_logits]))\n",
    "print('  French Words: {}'.format(\" \".join([target_int_to_vocab[i] for i in translate_logits])))\n"
   ]
  },
  {
   "cell_type": "markdown",
   "metadata": {},
   "source": [
    "## Imperfect Translation\n",
    "You might notice that some sentences translate better than others.  Since the dataset you're using only has a vocabulary of 227 English words of the thousands that you use, you're only going to see good results using these words.  For this project, you don't need a perfect translation. However, if you want to create a better translation model, you'll need better data.\n",
    "\n",
    "You can train on the [WMT10 French-English corpus](http://www.statmt.org/wmt10/training-giga-fren.tar).  This dataset has more vocabulary and richer in topics discussed.  However, this will take you days to train, so make sure you've a GPU and the neural network is performing well on dataset we provided.  Just make sure you play with the WMT10 corpus after you've submitted this project.\n",
    "## Submitting This Project\n",
    "When submitting this project, make sure to run all the cells before saving the notebook. Save the notebook file as \"dlnd_language_translation.ipynb\" and save it as a HTML file under \"File\" -> \"Download as\". Include the \"helper.py\" and \"problem_unittests.py\" files in your submission."
   ]
  }
 ],
 "metadata": {
  "anaconda-cloud": {},
  "kernelspec": {
   "display_name": "Python 3",
   "language": "python",
   "name": "python3"
  },
  "language_info": {
   "codemirror_mode": {
    "name": "ipython",
    "version": 3
   },
   "file_extension": ".py",
   "mimetype": "text/x-python",
   "name": "python",
   "nbconvert_exporter": "python",
   "pygments_lexer": "ipython3",
   "version": "3.5.3"
  }
 },
 "nbformat": 4,
 "nbformat_minor": 1
}
